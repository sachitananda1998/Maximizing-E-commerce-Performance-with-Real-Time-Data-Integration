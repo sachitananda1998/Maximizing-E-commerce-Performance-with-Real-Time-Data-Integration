{
 "cells": [
  {
   "cell_type": "code",
   "execution_count": null,
   "metadata": {},
   "outputs": [],
   "source": [
    "from flask import Flask, jsonify\n",
    "import random\n",
    "\n",
    "app = Flask(__name__)\n",
    "\n",
    "@app.route('/api/trucks', methods=['GET'])\n",
    "def get_truck_data():\n",
    "    trucks = [\n",
    "        {\n",
    "            \"truck_id\": \"TRK001\",\n",
    "            \"gps_location\": {\n",
    "                \"latitude\": round(random.uniform(-90.0, 90.0), 6),\n",
    "                \"longitude\": round(random.uniform(-180.0, 180.0), 6),\n",
    "                \"altitude\": round(random.uniform(0.0, 3000.0), 1),\n",
    "                \"speed\": round(random.uniform(0.0, 100.0), 1)\n",
    "            },\n",
    "            \"vehicle_speed\": round(random.uniform(0.0, 100.0), 1),\n",
    "            \"engine_diagnostics\": {\n",
    "                \"engine_rpm\": round(random.uniform(1000, 3000), 1),\n",
    "                \"fuel_level\": round(random.uniform(0.0, 100.0), 1),\n",
    "                \"temperature\": round(random.uniform(70.0, 100.0), 1),\n",
    "                \"oil_pressure\": round(random.uniform(30.0, 50.0), 1),\n",
    "                \"battery_voltage\": round(random.uniform(12.0, 15.0), 1)\n",
    "            },\n",
    "            \"odometer_reading\": round(random.uniform(80000.0, 120000.0), 1),\n",
    "            \"fuel_consumption\": round(random.uniform(10.0, 20.0), 1),\n",
    "            \"vehicle_health_and_maintenance\": {\n",
    "                \"brake_status\": random.choice([\"Good\", \"Needs Inspection\"]),\n",
    "                \"tire_pressure\": {\n",
    "                    \"front_left\": round(random.uniform(30.0, 35.0), 1),\n",
    "                    \"front_right\": round(random.uniform(30.0, 35.0), 1),\n",
    "                    \"rear_left\": round(random.uniform(30.0, 35.0), 1),\n",
    "                    \"rear_right\": round(random.uniform(30.0, 35.0), 1)\n",
    "                },\n",
    "                \"transmission_status\": random.choice([\"Operational\", \"Needs Maintenance\"])\n",
    "            },\n",
    "            \"environmental_conditions\": {\n",
    "                \"temperature\": round(random.uniform(15.0, 35.0), 1),\n",
    "                \"humidity\": round(random.uniform(10.0, 90.0), 1),\n",
    "                \"atmospheric_pressure\": round(random.uniform(980.0, 1030.0), 2)\n",
    "            }\n",
    "        }\n",
    "        for _ in range(3)\n",
    "    ]\n",
    "    return jsonify({\"trucks\": trucks})\n",
    "\n",
    "if __name__ == '__main__':\n",
    "    app.run(debug=True)\n"
   ]
  }
 ],
 "metadata": {
  "language_info": {
   "name": "python"
  }
 },
 "nbformat": 4,
 "nbformat_minor": 2
}
